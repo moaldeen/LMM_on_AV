{
  "nbformat": 4,
  "nbformat_minor": 0,
  "metadata": {
    "colab": {
      "provenance": []
    },
    "kernelspec": {
      "name": "python3",
      "display_name": "Python 3"
    },
    "language_info": {
      "name": "python"
    }
  },
  "cells": [
    {
      "cell_type": "markdown",
      "source": [
        "# **Google Bard**"
      ],
      "metadata": {
        "id": "y-qrBPCJBC1P"
      }
    },
    {
      "cell_type": "code",
      "execution_count": null,
      "metadata": {
        "id": "8fDD5K5cAX1g"
      },
      "outputs": [],
      "source": [
        "\n",
        "!pip install bardapi\n",
        "from bardapi import BardCookies\n",
        "\n",
        "\n",
        "cookie_dict = {\n",
        "    \"__Secure-1PSID\": \"cookies\t\", # open google bard in your broswer then inspect > Network > \"refresh the page\"  > in Network navitage to chat to get all these cookies\n",
        "    \"__Secure-1PAPISID\": \"cookies\t\",\n",
        "    \"__Secure-1PSIDCC\": \"cookies\t\",\n",
        "    # Any cookie values you want to pass session object.\n",
        "}\n",
        "bard = BardCookies(cookie_dict=cookie_dict)\n",
        "\n"
      ]
    },
    {
      "cell_type": "code",
      "source": [
        "import os\n",
        "import csv\n",
        "from bardapi import BardCookies\n",
        "import time\n",
        "image_folder_path = \"/content/drive/MyDrive/adversial perception/Final Result/GPT/no entry\"\n",
        "csv_output_path = \"/content/drive/MyDrive/adversial perception/Final Result/GPT/no entry/bard_results.csv\"\n",
        "\n",
        "bard = BardCookies(cookie_dict=cookie_dict)\n",
        "\n",
        "with open(csv_output_path, 'w', newline='') as csvfile:\n",
        "    csv_writer = csv.writer(csvfile)\n",
        "    csv_writer.writerow(['Image Name', 'Predicted Value'])\n",
        "\n",
        "    for image_filename in os.listdir(image_folder_path):\n",
        "        time.sleep(5)\n",
        "        if image_filename.endswith(('.jpg', '.jpeg', '.png')):\n",
        "            image_path = os.path.join(image_folder_path, image_filename)\n",
        "            with open(image_path, 'rb') as image_file:\n",
        "                image_data = image_file.read()\n",
        "\n",
        "                bard_answer = bard.ask_about_image(\"Is the traffic sign displayed a real-world traffic sign that has the same shape, color, pattern and text as real world traffic sign ? Answer with 'yes' or 'no'. 3 word answer please\", image_data)\n",
        "\n",
        "\n",
        "                predicted_value = bard_answer['content']\n",
        "                csv_writer.writerow([image_filename, predicted_value])\n",
        "\n",
        "print(\"CSV file created successfully.\")\n",
        "\n"
      ],
      "metadata": {
        "id": "6uXO7v-VAehK"
      },
      "execution_count": null,
      "outputs": []
    },
    {
      "cell_type": "markdown",
      "source": [
        "# ***GPT-4V***"
      ],
      "metadata": {
        "id": "UzyISr6fBjCk"
      }
    },
    {
      "cell_type": "code",
      "source": [
        "import base64\n",
        "import requests\n",
        "import os\n",
        "import csv\n",
        "import time\n",
        "\n",
        "api_key = \"XX\"\n",
        "\n",
        "def encode_image(image_path):\n",
        "    with open(image_path, \"rb\") as image_file:\n",
        "        return base64.b64encode(image_file.read()).decode('utf-8')\n",
        "\n",
        "# Directory\n",
        "image_folder = \"/content/drive/MyDrive/adversial perception/RQ3/Selected_Images\"\n",
        "\n",
        "csv_file = \"/content/drive/MyDrive/adversial perception/RQ3/Selected_Images/GPT_results.csv\"\n",
        "\n",
        "with open(csv_file, mode='w', newline='') as file:\n",
        "    writer = csv.writer(file)\n",
        "    writer.writerow(['Image Name', 'Predicted Value'])\n",
        "\n",
        "    for image_name in os.listdir(image_folder):\n",
        "        image_path = os.path.join(image_folder, image_name)\n",
        "\n",
        "        if not os.path.isfile(image_path) or not image_path.endswith(('.png', '.jpg', '.jpeg')):\n",
        "            continue\n",
        "\n",
        "        base64_image = encode_image(image_path)\n",
        "\n",
        "        headers = {\n",
        "          \"Content-Type\": \"application/json\",\n",
        "          \"Authorization\": f\"Bearer {api_key}\"\n",
        "        }\n",
        "\n",
        "        payload = {\n",
        "          \"model\": \"gpt-4-vision-preview\",\n",
        "          \"messages\": [\n",
        "            {\n",
        "              \"role\": \"user\",\n",
        "              \"content\": [\n",
        "                {\n",
        "                  \"type\": \"text\",\n",
        "                  \"text\": \"Is the traffic sign displayed a real-world traffic sign that has the same shape, color, pattern and text as real world traffic sign ? Answer with 'yes' or 'no'. 3 word answer please\"\n",
        "                },\n",
        "                {\n",
        "                  \"type\": \"image_url\",\n",
        "                  \"image_url\": {\n",
        "                    \"url\": f\"data:image/jpeg;base64,{base64_image}\"\n",
        "                  }\n",
        "                }\n",
        "              ]\n",
        "            }\n",
        "          ],\n",
        "          \"max_tokens\": 50\n",
        "        }\n",
        "\n",
        "        time.sleep(5)\n",
        "\n",
        "        response = requests.post(\"https://api.openai.com/v1/chat/completions\", headers=headers, json=payload)\n",
        "\n",
        "        data = response.json()\n",
        "\n",
        "        content_value = data['choices'][0]['message']['content']\n",
        "\n",
        "        writer.writerow([image_name, content_value])"
      ],
      "metadata": {
        "id": "1qe7IkILBrOc"
      },
      "execution_count": null,
      "outputs": []
    },
    {
      "cell_type": "code",
      "source": [],
      "metadata": {
        "id": "6PU37lXqCRZ4"
      },
      "execution_count": null,
      "outputs": []
    }
  ]
}