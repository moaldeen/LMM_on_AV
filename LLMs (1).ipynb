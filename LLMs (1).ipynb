{
  "nbformat": 4,
  "nbformat_minor": 0,
  "metadata": {
    "colab": {
      "provenance": []
    },
    "kernelspec": {
      "name": "python3",
      "display_name": "Python 3"
    },
    "language_info": {
      "name": "python"
    }
  },
  "cells": [
    {
      "cell_type": "markdown",
      "source": [
        "# **Google Bard**"
      ],
      "metadata": {
        "id": "y-qrBPCJBC1P"
      }
    },
    {
      "cell_type": "code",
      "execution_count": null,
      "metadata": {
        "id": "8fDD5K5cAX1g"
      },
      "outputs": [],
      "source": [
        "\n",
        "!pip install bardapi\n",
        "from bardapi import BardCookies\n",
        "\n",
        "\n",
        "cookie_dict = {\n",
        "    \"__Secure-1PSID\": \"cookies\t\", # open google bard in your broswer then inspect > Network > \"refresh the page\"  > in Network navitage to chat to get all these cookies\n",
        "    \"__Secure-1PAPISID\": \"cookies\t\",\n",
        "    \"__Secure-1PSIDCC\": \"cookies\t\",\n",
        "    # Any cookie values you want to pass session object.\n",
        "}\n",
        "bard = BardCookies(cookie_dict=cookie_dict)\n",
        "\n"
      ]
    },
    {
      "cell_type": "code",
      "source": [
        "import os\n",
        "import csv\n",
        "from bardapi import BardCookies\n",
        "import time\n",
        "image_folder_path = \"/content/drive/MyDrive/adversial perception/Final Result/GPT/no entry\"\n",
        "csv_output_path = \"/content/drive/MyDrive/adversial perception/Final Result/GPT/no entry/bard_results.csv\"\n",
        "\n",
        "bard = BardCookies(cookie_dict=cookie_dict)\n",
        "\n",
        "with open(csv_output_path, 'w', newline='') as csvfile:\n",
        "    csv_writer = csv.writer(csvfile)\n",
        "    csv_writer.writerow(['Image Name', 'Predicted Value'])\n",
        "\n",
        "    for image_filename in os.listdir(image_folder_path):\n",
        "        time.sleep(5)\n",
        "        if image_filename.endswith(('.jpg', '.jpeg', '.png')):\n",
        "            image_path = os.path.join(image_folder_path, image_filename)\n",
        "            with open(image_path, 'rb') as image_file:\n",
        "                image_data = image_file.read()\n",
        "\n",
        "                bard_answer = bard.ask_about_image(\"Is the traffic sign displayed a real-world traffic sign that has the same shape, color, pattern and text as real world traffic sign ? Answer with 'yes' or 'no'. 3 word answer please\", image_data)\n",
        "\n",
        "\n",
        "                predicted_value = bard_answer['content']\n",
        "                csv_writer.writerow([image_filename, predicted_value])\n",
        "\n",
        "print(\"CSV file created successfully.\")\n",
        "\n"
      ],
      "metadata": {
        "id": "6uXO7v-VAehK"
      },
      "execution_count": null,
      "outputs": []
    },
    {
      "cell_type": "markdown",
      "source": [
        "# ***GPT-4V***"
      ],
      "metadata": {
        "id": "UzyISr6fBjCk"
      }
    },
    {
      "cell_type": "code",
      "source": [
        "import base64\n",
        "import requests\n",
        "import os\n",
        "import csv\n",
        "import time\n",
        "\n",
        "api_key = \"XX\"\n",
        "\n",
        "def encode_image(image_path):\n",
        "    with open(image_path, \"rb\") as image_file:\n",
        "        return base64.b64encode(image_file.read()).decode('utf-8')\n",
        "\n",
        "# Directory\n",
        "image_folder = \"/content/drive/MyDrive/adversial perception/RQ3/Selected_Images\"\n",
        "\n",
        "csv_file = \"/content/drive/MyDrive/adversial perception/RQ3/Selected_Images/GPT_results.csv\"\n",
        "\n",
        "with open(csv_file, mode='w', newline='') as file:\n",
        "    writer = csv.writer(file)\n",
        "    writer.writerow(['Image Name', 'Predicted Value'])\n",
        "\n",
        "    for image_name in os.listdir(image_folder):\n",
        "        image_path = os.path.join(image_folder, image_name)\n",
        "\n",
        "        if not os.path.isfile(image_path) or not image_path.endswith(('.png', '.jpg', '.jpeg')):\n",
        "            continue\n",
        "\n",
        "        base64_image = encode_image(image_path)\n",
        "\n",
        "        headers = {\n",
        "          \"Content-Type\": \"application/json\",\n",
        "          \"Authorization\": f\"Bearer {api_key}\"\n",
        "        }\n",
        "\n",
        "        payload = {\n",
        "          \"model\": \"gpt-4-vision-preview\",\n",
        "          \"messages\": [\n",
        "            {\n",
        "              \"role\": \"user\",\n",
        "              \"content\": [\n",
        "                {\n",
        "                  \"type\": \"text\",\n",
        "                  \"text\": \"Is the traffic sign displayed a real-world traffic sign that has the same shape, color, pattern and text as real world traffic sign ? Answer with 'yes' or 'no'. 3 word answer please\"\n",
        "                },\n",
        "                {\n",
        "                  \"type\": \"image_url\",\n",
        "                  \"image_url\": {\n",
        "                    \"url\": f\"data:image/jpeg;base64,{base64_image}\"\n",
        "                  }\n",
        "                }\n",
        "              ]\n",
        "            }\n",
        "          ],\n",
        "          \"max_tokens\": 50\n",
        "        }\n",
        "\n",
        "        time.sleep(5)\n",
        "\n",
        "        response = requests.post(\"https://api.openai.com/v1/chat/completions\", headers=headers, json=payload)\n",
        "\n",
        "        data = response.json()\n",
        "\n",
        "        content_value = data['choices'][0]['message']['content']\n",
        "\n",
        "        writer.writerow([image_name, content_value])"
      ],
      "metadata": {
        "id": "1qe7IkILBrOc"
      },
      "execution_count": null,
      "outputs": []
    },
    {
      "cell_type": "code",
      "source": [],
      "metadata": {
        "id": "6PU37lXqCRZ4"
      },
      "execution_count": null,
      "outputs": []
    },
    {
      "cell_type": "code",
      "source": [],
      "metadata": {
        "id": "P1m3si092wqw"
      },
      "execution_count": null,
      "outputs": []
    },
    {
      "cell_type": "markdown",
      "source": [
        "# ***LLAVA***"
      ],
      "metadata": {
        "id": "BNfVuPkz2yFK"
      }
    },
    {
      "cell_type": "code",
      "source": [
        "%cd /content\n",
        "!git clone -b dev https://github.com/camenduru/LLaVA\n",
        "%cd /content/LLaVA\n",
        "\n",
        "!pip install -q transformers==4.36.2\n",
        "!pip install ninja\n",
        "!pip install flash-attn --no-build-isolation\n",
        "\n",
        "!pip install -e .\n"
      ],
      "metadata": {
        "id": "3izmr8AE24O4"
      },
      "execution_count": null,
      "outputs": []
    },
    {
      "cell_type": "code",
      "source": [
        "#after that modify cli.py file\n",
        "\n",
        "import argparse\n",
        "import os\n",
        "import csv\n",
        "import torch\n",
        "from llava.constants import IMAGE_TOKEN_INDEX, DEFAULT_IMAGE_TOKEN, DEFAULT_IM_START_TOKEN, DEFAULT_IM_END_TOKEN\n",
        "from llava.conversation import conv_templates, SeparatorStyle\n",
        "from llava.model.builder import load_pretrained_model\n",
        "from llava.utils import disable_torch_init\n",
        "from llava.mm_utils import tokenizer_image_token, get_model_name_from_path, KeywordsStoppingCriteria\n",
        "from PIL import Image\n",
        "import requests\n",
        "from io import BytesIO\n",
        "from transformers import TextStreamer\n",
        "\n",
        "def load_image(image_file):\n",
        "    if image_file.startswith('http') or image_file.startswith('https'):\n",
        "        response = requests.get(image_file)\n",
        "        image = Image.open(BytesIO(response.content)).convert('RGB')\n",
        "    else:\n",
        "        image = Image.open(image_file).convert('RGB')\n",
        "    return image\n",
        "\n",
        "def process_image(image_file, model, tokenizer, image_processor, args, conv_mode, roles, csv_writer):\n",
        "    try:\n",
        "        image = load_image(image_file)\n",
        "        image_tensor = image_processor.preprocess(image, return_tensors='pt')['pixel_values'].half().cuda()\n",
        "\n",
        "        inp = \"\"\"Is the traffic sign displayed a real-world traffic sign that has the same shape, color, pattern and text as real world traffic sign ? Answer with 'yes' or 'no'.\"\"\"\n",
        "\n",
        "        if model.config.mm_use_im_start_end:\n",
        "            inp = DEFAULT_IM_START_TOKEN + DEFAULT_IMAGE_TOKEN + DEFAULT_IM_END_TOKEN + '\\n' + inp\n",
        "        else:\n",
        "            inp = DEFAULT_IMAGE_TOKEN + '\\n' + inp\n",
        "\n",
        "        conv = conv_templates[conv_mode].copy()\n",
        "\n",
        "        conv.append_message(roles[0], inp)\n",
        "        conv.append_message(roles[1], None)\n",
        "        prompt = conv.get_prompt()\n",
        "\n",
        "        input_ids = tokenizer_image_token(prompt, tokenizer, IMAGE_TOKEN_INDEX, return_tensors='pt').unsqueeze(0).cuda()\n",
        "        stop_str = conv.sep if conv.sep_style != SeparatorStyle.TWO else conv.sep2\n",
        "        keywords = [stop_str]\n",
        "        stopping_criteria = KeywordsStoppingCriteria(keywords, tokenizer, input_ids)\n",
        "        streamer = TextStreamer(tokenizer, skip_prompt=True, skip_special_tokens=True)\n",
        "\n",
        "        with torch.inference_mode():\n",
        "            output_ids = model.generate(\n",
        "                input_ids,\n",
        "                images=image_tensor,\n",
        "                do_sample=True,\n",
        "                temperature=args.temperature,\n",
        "                max_new_tokens=args.max_new_tokens,\n",
        "                streamer=streamer,\n",
        "                use_cache=True,\n",
        "                stopping_criteria=[stopping_criteria])\n",
        "\n",
        "        outputs = tokenizer.decode(output_ids[0, input_ids.shape[1]:]).strip()\n",
        "\n",
        "        if args.debug:\n",
        "            print(\"\\n\", {\"prompt\": prompt, \"outputs\": outputs}, \"\\n\")\n",
        "\n",
        "        print(f\"Processed {image_file}: {outputs}\")\n",
        "\n",
        "        csv_writer.writerow([os.path.basename(image_file), outputs])\n",
        "\n",
        "    except IndexError as e:\n",
        "        print(f\"IndexError: {e}\")\n",
        "        print(f\"Image file: {image_file}\")\n",
        "\n",
        "def main(args):\n",
        "    disable_torch_init()\n",
        "    model_name = get_model_name_from_path(args.model_path)\n",
        "    tokenizer, model, image_processor, context_len = load_pretrained_model(args.model_path, args.model_base, model_name, args.load_8bit, args.load_4bit)\n",
        "\n",
        "    if 'llama-2' in model_name.lower():\n",
        "        conv_mode = \"llava_llama_2\"\n",
        "    elif \"v1\" in model_name.lower():\n",
        "        conv_mode = \"llava_v1\"\n",
        "    elif \"mpt\" in model_name.lower():\n",
        "        conv_mode = \"mpt\"\n",
        "    else:\n",
        "        conv_mode = \"llava_v0\"\n",
        "\n",
        "    if args.conv_mode is not None and conv_mode != args.conv_mode:\n",
        "        print(f'[WARNING] the auto inferred conversation mode is {conv_mode}, while `--conv-mode` is {args.conv_mode}, using {args.conv_mode}')\n",
        "    else:\n",
        "        args.conv_mode = conv_mode\n",
        "\n",
        "    roles = ('user', 'assistant') if \"mpt\" in model_name.lower() else conv_templates[args.conv_mode].roles\n",
        "\n",
        "    image_folder = '/LLaVA/non_ae_real/LLama_7b/03.StopSign'  # Replace with your folder path\n",
        "\n",
        "    csv_file = open('/LLaVA/non_ae_real/LLama_7b/03.StopSign/stopsign_lama13.csv', 'w', newline='')\n",
        "    csv_writer = csv.writer(csv_file)\n",
        "    csv_writer.writerow(['Image Name', 'Prediction'])\n",
        "\n",
        "    all_files = os.listdir(image_folder)\n",
        "\n",
        "    image_files = [os.path.join(image_folder, f) for f in all_files if f.lower().endswith(('.jpg', '.png'))]\n",
        "\n",
        "    for image_file in image_files:\n",
        "        process_image(image_file, model, tokenizer, image_processor, args, conv_mode, roles, csv_writer)\n",
        "\n",
        "    csv_file.close()\n",
        "\n",
        "if __name__ == \"__main__\":\n",
        "    parser = argparse.ArgumentParser()\n",
        "    parser.add_argument(\"--model-path\", type=str, default=\"facebook/opt-350m\")\n",
        "    parser.add_argument(\"--model-base\", type=str, default=None)\n",
        "    parser.add_argument(\"--num-gpus\", type=int, default=1)\n",
        "    parser.add_argument(\"--conv-mode\", type=str, default=None)\n",
        "    parser.add_argument(\"--temperature\", type=float, default=0.2)\n",
        "    parser.add_argument(\"--max-new-tokens\", type=int, default=512)\n",
        "    parser.add_argument(\"--load-8bit\", action=\"store_true\")\n",
        "    parser.add_argument(\"--load-4bit\", action=\"store_true\")\n",
        "    parser.add_argument(\"--debug\", action=\"store_true\")\n",
        "    args = parser.parse_args()\n",
        "    main(args)\n",
        "\n"
      ],
      "metadata": {
        "id": "SwQGO5uF3PLZ"
      },
      "execution_count": null,
      "outputs": []
    },
    {
      "cell_type": "code",
      "source": [
        "# LLava13b\n",
        "!python -m llava.serve.cli \\\n",
        "    --model-path 4bit/llava-v1.5-13b-3GB \\\n",
        "    --load-4bit"
      ],
      "metadata": {
        "colab": {
          "base_uri": "https://localhost:8080/"
        },
        "id": "LBOmdbDa3AxR",
        "outputId": "537ddd16-7a0f-4520-9c92-2fda03352ef3"
      },
      "execution_count": 1,
      "outputs": [
        {
          "output_type": "stream",
          "name": "stdout",
          "text": [
            "/usr/bin/python3: Error while finding module specification for 'llava.serve.cli' (ModuleNotFoundError: No module named 'llava')\n"
          ]
        }
      ]
    },
    {
      "cell_type": "code",
      "source": [
        "# LLava7b\n",
        "!python -m llava.serve.cli \\\n",
        "    --model-path 4bit/llava-v1.5-7b-5GB \\\n",
        "    --load-4bit"
      ],
      "metadata": {
        "id": "mB2CEjL93mYx"
      },
      "execution_count": null,
      "outputs": []
    },
    {
      "cell_type": "code",
      "source": [],
      "metadata": {
        "id": "Diw5Y58Y36R6"
      },
      "execution_count": null,
      "outputs": []
    },
    {
      "cell_type": "markdown",
      "source": [
        "# ***LLAVA C++ to fit Raspberry Pi and ZED box***"
      ],
      "metadata": {
        "id": "bOFArQPw38Vz"
      }
    },
    {
      "cell_type": "code",
      "source": [
        "!git clone https://github.com/ggerganov/llama.cpp\n",
        "%cd llama.cpp\n",
        "\n",
        "!mkdir build\n",
        "!cd build\n",
        "!cmake ..\n",
        "!cmake --build . --config Release"
      ],
      "metadata": {
        "id": "n0jGn7pW4SZQ"
      },
      "execution_count": null,
      "outputs": []
    },
    {
      "cell_type": "code",
      "source": [
        "#modify the file  build/bin/run.sh\n",
        "\n",
        "#!/bin/bash\n",
        "\n",
        "CPP_PROGRAM=\"./llava-cli\"\n",
        "MODEL_ARG=\"-m ggml-model-q4_k.gguf\" # avalable on hugging face https://huggingface.co/jartine/llava-v1.5-7B-GGUF/tree/main\n",
        "MM_PROJ_ARG=\"--mmproj mmproj-model-f16.gguf\" # avalable on hugging face https://huggingface.co/jartine/llava-v1.5-7B-GGUF/tree/main\n",
        "IMAGE_ARG=\"--image\"\n",
        "PROMPT_ARG=\"-p\"\n",
        "DESCRIPTION=\"\\\"Is the traffic sign displayed a real-world traffic sign that has the same shape, color, pattern and text as real world traffic sign ? Answer with 'yes' or 'no'.\"\n",
        "declare -a PNG_FILES\n",
        "\n",
        "for file in /home/user/GPT/lane+detection/Clear_Faded_Lane/*.png; do\n",
        "    PNG_FILES+=(\"$file\")\n",
        "done\n",
        "\n",
        "for IMAGE_PATH in \"${PNG_FILES[@]}\"; do\n",
        "    \"$CPP_PROGRAM\" $MODEL_ARG $MM_PROJ_ARG $PROMPT_ARG \"$DESCRIPTION\" $IMAGE_ARG \"$IMAGE_PATH\"\n",
        "done\n"
      ],
      "metadata": {
        "id": "Zw8vk7xv42CK"
      },
      "execution_count": null,
      "outputs": []
    }
  ]
}